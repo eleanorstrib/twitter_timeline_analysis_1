{
 "cells": [
  {
   "cell_type": "code",
   "execution_count": 1,
   "metadata": {},
   "outputs": [],
   "source": [
    "import csv\n",
    "import os\n",
    "import json\n",
    "import requests\n",
    "import twitter\n",
    "import lxml.html"
   ]
  },
  {
   "cell_type": "code",
   "execution_count": 2,
   "metadata": {},
   "outputs": [],
   "source": [
    "TWITTER_CONS_KEY = os.environ.get('T_CONS_')\n",
    "TWITTER_CONS_SEC = os.environ.get('T_CONS_SECRET')\n",
    "TWITTER_ACCESS_TOKEN = os.environ.get('T_ACCESS_')\n",
    "TWITTER_ACCESS_SEC = os.environ.get('T_ACCESS_SECRET')"
   ]
  },
  {
   "cell_type": "code",
   "execution_count": 3,
   "metadata": {},
   "outputs": [],
   "source": [
    "t = twitter.Api(\n",
    "    consumer_key = TWITTER_CONS_KEY,\n",
    "    consumer_secret = TWITTER_CONS_SEC,\n",
    "    access_token_key = TWITTER_ACCESS_TOKEN, \n",
    "    access_token_secret = TWITTER_ACCESS_SEC,\n",
    "    tweet_mode='extended'\n",
    ")"
   ]
  },
  {
   "cell_type": "code",
   "execution_count": 4,
   "metadata": {},
   "outputs": [],
   "source": [
    "screen_name = \"NASA\""
   ]
  },
  {
   "cell_type": "code",
   "execution_count": 6,
   "metadata": {},
   "outputs": [],
   "source": [
    "# The Twitter api\n",
    "first_200 = t.GetUserTimeline(screen_name=screen_name, count=200)"
   ]
  },
  {
   "cell_type": "code",
   "execution_count": 43,
   "metadata": {},
   "outputs": [],
   "source": [
    "def get_tweets(first_200, screen_name, last_id):\n",
    "    all_tweets = []\n",
    "    all_tweets.extend(first_200)\n",
    "    for i in range(900):\n",
    "        new = t.GetUserTimeline(screen_name=screen_name, max_id=last_id-1)\n",
    "        all_tweets.extend(new)\n",
    "        if len(new) > 0:\n",
    "            last_id = new[-1].id\n",
    "        else:\n",
    "            break\n",
    "    \n",
    "    return all_tweets"
   ]
  },
  {
   "cell_type": "code",
   "execution_count": 45,
   "metadata": {},
   "outputs": [],
   "source": [
    "all_tweets = get_tweets(first_200, first_200[-1].id)"
   ]
  },
  {
   "cell_type": "code",
   "execution_count": 97,
   "metadata": {},
   "outputs": [
    {
     "name": "stdout",
     "output_type": "stream",
     "text": [
      "The 'created_at' parameter is in the form of a <class 'str'> and looks like this: Sat Jun 30 19:44:09 +0000 2018.\n",
      "The 'created_at' parameter is in the form of a <class 'str'> and looks like this: <a href=\"http://twitter.com/download/iphone\" rel=\"nofollow\">Twitter for iPhone</a>.\n"
     ]
    }
   ],
   "source": [
    "print(\"The 'created_at' parameter is in the form of a %s and looks like this: %s.\" % (\n",
    "                                        type(all_tweets[0].created_at),\n",
    "                                        all_tweets[0].created_at)\n",
    "     )\n",
    "print(\"The 'created_at' parameter is in the form of a %s and looks like this: %s.\" % (\n",
    "                                        type(all_tweets[0].source), \n",
    "                                        all_tweets[0].source)\n",
    "     )"
   ]
  },
  {
   "cell_type": "code",
   "execution_count": 103,
   "metadata": {},
   "outputs": [
    {
     "name": "stdout",
     "output_type": "stream",
     "text": [
      "Our cleaned text; original was \"<a href=\"http://twitter.com/download/iphone\" rel=\"nofollow\">Twitter for iPhone</a>)\":\n",
      "Twitter for iPhone\n",
      "***\n",
      "Our date string converted to an object; original was \"Sat Jun 30 11:37:03 +0000 2018\":\n",
      "2018-06-30 11:37:03+00:00\n"
     ]
    }
   ],
   "source": [
    "def clean_source(source):\n",
    "    raw = lxml.html.document_fromstring(source)\n",
    "    return source_raw.cssselect('body')[0].text_content()\n",
    "\n",
    "\n",
    "def string_to_datetime(date_str):\n",
    "    return datetime.strptime(date_str, '%a %b %d %H:%M:%S %z %Y')\n",
    "\n",
    "\n",
    "print('Our cleaned text; original was \"<a href=\"http://twitter.com/download/iphone\" rel=\"nofollow\">Twitter for iPhone</a>)\":')\n",
    "print(clean_source('<a href=\"http://twitter.com/download/iphone\" rel=\"nofollow\">Twitter for iPhone</a>'))\n",
    "print('***')\n",
    "print('Our date string converted to an object; original was \"Sat Jun 30 11:37:03 +0000 2018\":')\n",
    "print(string_to_datetime('Sat Jun 30 11:37:03 +0000 2018'))\n"
   ]
  },
  {
   "cell_type": "code",
   "execution_count": 101,
   "metadata": {},
   "outputs": [],
   "source": [
    "def write_to_csv(tweets, filename):\n",
    "    headers = ['id', 'full_text', 'hashtags', 'urls', 'created_at', 'favorite_count', 'retweet_count', 'source']\n",
    "            \n",
    "    with open(filename + '.csv', 'w', newline='') as csvfile:\n",
    "        writer = csv.writer(csvfile, delimiter=',')\n",
    "        writer.writerow(headers)\n",
    "        \n",
    "        for item in tweets:\n",
    "            \n",
    "            writer.writerow([item.id, item.full_text, item.hashtags, item.urls, \n",
    "                             item.created_at, item.favorite_count, item.retweet_count, \n",
    "                             clean_source(item.source)])\n",
    "    csvfile.close()"
   ]
  },
  {
   "cell_type": "code",
   "execution_count": 102,
   "metadata": {},
   "outputs": [],
   "source": [
    "write_to_csv(all_tweets, 'trump_tweets')"
   ]
  },
  {
   "cell_type": "code",
   "execution_count": null,
   "metadata": {},
   "outputs": [],
   "source": []
  },
  {
   "cell_type": "code",
   "execution_count": 54,
   "metadata": {},
   "outputs": [
    {
     "name": "stdout",
     "output_type": "stream",
     "text": [
      "We collected 3199 tweets.\n",
      "The most recent tweet in our collection was sent Sat Jun 30 19:44:09 +0000 2018 and the oldest tweet was sent Fri May 19 22:16:06 +0000 2017.\n"
     ]
    }
   ],
   "source": [
    "print(\"We collected %d tweets.\" % len(all_tweets))\n",
    "print(\"The most recent tweet in our collection was sent %s and the oldest tweet was sent %s.\" % (\n",
    "                                                                            all_tweets[0].created_at, \n",
    "                                                                            all_tweets[-1].created_at)\n",
    "     )"
   ]
  },
  {
   "cell_type": "code",
   "execution_count": 104,
   "metadata": {},
   "outputs": [],
   "source": [
    "def create_dict(tweets):\n",
    "    dict = {}\n",
    "    for item in tweets:\n",
    "        clean_source(item.source)\n",
    "        dict[str(item.id)] = {\n",
    "            'id':item.id,\n",
    "            'full_text': item.full_text,\n",
    "            'hashtags': item.hashtags,\n",
    "            'urls': item.urls,\n",
    "            'created_at': string_to_datetime(item.created_at),\n",
    "            'favorite_count': item.favorite_count,\n",
    "            'retweet_count' : item.retweet_count,\n",
    "            'source': clean_source(item.source)\n",
    "        }\n",
    "    return dict"
   ]
  },
  {
   "cell_type": "code",
   "execution_count": 105,
   "metadata": {},
   "outputs": [],
   "source": [
    "tweet_dict = create_dict(all_tweets)"
   ]
  },
  {
   "cell_type": "code",
   "execution_count": 106,
   "metadata": {},
   "outputs": [
    {
     "data": {
      "text/plain": [
       "{'id': 1013023608040513537,\n",
       " 'full_text': 'Just spoke to King Salman of Saudi Arabia and explained to him that, because of the turmoil &amp; disfunction in Iran and Venezuela, I am asking that Saudi Arabia increase oil production, maybe up to 2,000,000 barrels, to make up the difference...Prices to high! He has agreed!',\n",
       " 'hashtags': [],\n",
       " 'urls': [],\n",
       " 'created_at': datetime.datetime(2018, 6, 30, 11, 37, 3, tzinfo=datetime.timezone.utc),\n",
       " 'favorite_count': 107963,\n",
       " 'retweet_count': 31496,\n",
       " 'source': 'Twitter for iPhone'}"
      ]
     },
     "execution_count": 106,
     "metadata": {},
     "output_type": "execute_result"
    }
   ],
   "source": [
    "tweet_dict['1013023608040513537']"
   ]
  }
 ],
 "metadata": {
  "kernelspec": {
   "display_name": "Python 3",
   "language": "python",
   "name": "python3"
  },
  "language_info": {
   "codemirror_mode": {
    "name": "ipython",
    "version": 3
   },
   "file_extension": ".py",
   "mimetype": "text/x-python",
   "name": "python",
   "nbconvert_exporter": "python",
   "pygments_lexer": "ipython3",
   "version": "3.6.2"
  }
 },
 "nbformat": 4,
 "nbformat_minor": 2
}
